{
 "cells": [
  {
   "cell_type": "code",
   "execution_count": 6,
   "metadata": {},
   "outputs": [
    {
     "name": "stdout",
     "output_type": "stream",
     "text": [
      "Grade:  F\n",
      "Failure\n"
     ]
    }
   ],
   "source": [
    "marks = input(\"Enter marks:\")\n",
    "marks = int(marks)\n",
    "grade = 'NA'\n",
    "\n",
    "if marks < 0 and marks>100:\n",
    "    print(\"Grade: \", grade)\n",
    "    print(\"Marks should be between 0 and 100\")\n",
    "elif marks<40:\n",
    "    grade = 'F'\n",
    "    print(\"Grade: \", grade)\n",
    "    print(\"Failure\")\n",
    "elif marks<55:\n",
    "    grade = 'D'\n",
    "    print(\"Grade: \", grade)\n",
    "    print(\"Ordinary Pass\")\n",
    "elif marks<65:\n",
    "    grade = 'C'\n",
    "    print(\"Grade: \", grade)\n",
    "    print(\"Credit Pass\")\n",
    "elif marks<75:\n",
    "    grade = 'B'\n",
    "    print(\"Grade: \", grade)\n",
    "    print(\"Very Good Pass\")\n",
    "elif marks<=100:\n",
    "    grade = 'A'\n",
    "    print(\"Grade: \", grade)\n",
    "    print(\"Distinction\")\n",
    "else:\n",
    "    grade = 'NA'\n",
    "    print(\"Grade: \", grade)\n",
    "    print(\"Please check if marks given as a number\")"
   ]
  }
 ],
 "metadata": {
  "kernelspec": {
   "display_name": "base",
   "language": "python",
   "name": "python3"
  },
  "language_info": {
   "codemirror_mode": {
    "name": "ipython",
    "version": 3
   },
   "file_extension": ".py",
   "mimetype": "text/x-python",
   "name": "python",
   "nbconvert_exporter": "python",
   "pygments_lexer": "ipython3",
   "version": "3.8.5"
  },
  "orig_nbformat": 4
 },
 "nbformat": 4,
 "nbformat_minor": 2
}
